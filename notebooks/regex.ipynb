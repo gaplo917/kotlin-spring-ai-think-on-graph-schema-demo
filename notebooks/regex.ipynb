{
 "cells": [
  {
   "metadata": {
    "ExecuteTime": {
     "end_time": "2024-11-28T15:50:22.447118Z",
     "start_time": "2024-11-28T15:50:22.398365Z"
    }
   },
   "cell_type": "code",
   "source": [
    "val content = \"\"\"\n",
    "\\<thinking>\n",
    "To find a user's portfolio, we need to start with the User node and follow the relationship \"OWNS_PORTFOLIO\" to reach the Portfolio node.\n",
    "\n",
    "\n",
    "</thinking>\n",
    "\n",
    "\\<query>\n",
    "```cypher\n",
    "MATCH path=(u:User {userId: \"USER_ID_PLACEHOLDER\"})-[r1:OWNS_PORTFOLIO]->(p:Portfolio)\n",
    "RETURN path\n",
    "```\n",
    "</query>\n",
    "\"\"\"\n",
    "\n",
    "val queryTagRe = \"\"\"<query>\\s*```cypher\\s*([\\s\\S]*?)```\\s*</query>\"\"\".toRegex()\n",
    "\n",
    "print(queryTagRe.find(content)?.groupValues?.get(1)?.trim() ?: \"\")"
   ],
   "outputs": [
    {
     "name": "stdout",
     "output_type": "stream",
     "text": [
      "MATCH path=(u:User {userId: \"USER_ID_PLACEHOLDER\"})-[r1:OWNS_PORTFOLIO]->(p:Portfolio)\n",
      "RETURN path"
     ]
    }
   ],
   "execution_count": 5
  },
  {
   "metadata": {},
   "cell_type": "code",
   "outputs": [],
   "execution_count": null,
   "source": ""
  }
 ],
 "metadata": {
  "kernelspec": {
   "display_name": "Kotlin",
   "language": "kotlin",
   "name": "kotlin"
  },
  "language_info": {
   "name": "kotlin",
   "version": "1.9.23",
   "mimetype": "text/x-kotlin",
   "file_extension": ".kt",
   "pygments_lexer": "kotlin",
   "codemirror_mode": "text/x-kotlin",
   "nbconvert_exporter": ""
  }
 },
 "nbformat": 4,
 "nbformat_minor": 0
}
