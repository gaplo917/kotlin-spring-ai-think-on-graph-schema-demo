{
 "cells": [
  {
   "metadata": {},
   "cell_type": "markdown",
   "source": "# Testing Ollama"
  },
  {
   "cell_type": "code",
   "metadata": {
    "collapsed": true,
    "ExecuteTime": {
     "end_time": "2024-11-21T23:14:28.876812Z",
     "start_time": "2024-11-21T23:14:25.580114Z"
    }
   },
   "source": [
    "import kotlinx.coroutines.flow.onEach\n",
    "import kotlinx.coroutines.flow.reduce\n",
    "import kotlinx.coroutines.reactive.asFlow\n",
    "import kotlinx.coroutines.runBlocking\n",
    "import org.springframework.ai.chat.prompt.Prompt\n",
    "import org.springframework.ai.ollama.OllamaChatModel\n",
    "import org.springframework.ai.ollama.api.OllamaApi\n",
    "import org.springframework.ai.ollama.api.OllamaOptions\n",
    "import kotlin.time.measureTimedValue\n",
    "\n",
    "val model = OllamaChatModel.builder()\n",
    "    .withOllamaApi(OllamaApi(\"http://localhost:11434\"))\n",
    "    .withDefaultOptions(\n",
    "        OllamaOptions()\n",
    "            .withModel(\"gemma2:2b\")\n",
    "            .withNumCtx(8192)\n",
    "            .withTemperature(0.7)\n",
    "    ).build()\n",
    "\n",
    "var ttft: Long? = null\n",
    "\n",
    "val timedResp = measureTimedValue {\n",
    "    val start = System.currentTimeMillis()\n",
    "    val stream = model.stream(\n",
    "        Prompt(\"\"\"\n",
    "Here's a 200-word story:\n",
    "<story>\n",
    "Here's a 1000-word story:\n",
    "\n",
    "The Time Keeper's Daughter\n",
    "\n",
    "Emma stood before the ancient clock tower, its weathered face looming over her like a watchful guardian. For generations, her family had been the keepers of this mysterious structure, maintaining not just its mechanical workings, but also its deepest secret – one that had been passed down through the ages.\n",
    "\n",
    "Today was her twenty-fifth birthday, and according to tradition, it was time for her father to share the tower's truth with her. The morning fog swirled around her feet as she inserted the ornate brass key into the tower's heavy wooden door. The mechanism clicked, and the door creaked open, revealing the familiar spiral staircase she had climbed countless times before.\n",
    "\n",
    "\"Dad?\" she called out, her voice echoing up the stone walls. No response came. Strange, she thought, as her father was always punctual – a family trait that came with being time keepers. She began ascending the stairs, each step accompanied by the rhythmic ticking that seemed to pulse through the very stones of the tower.\n",
    "\n",
    "When she reached the clock room at the top, Emma found it empty. The massive gears continued their eternal dance, but her father's usual presence was notably absent. On his workbench lay an envelope with her name written in his precise handwriting. Her heart began to race as she opened it.\n",
    "\n",
    "\"My dearest Emma,\" the letter began, \"If you're reading this, then I've become trapped in the In-Between, just as your grandfather did before me. The clock tower isn't just a timepiece – it's a gateway between moments, between what was and what will be. We don't just keep time; we guard the boundaries between times.\"\n",
    "\n",
    "Emma's hands trembled as she read on. The letter explained how the tower existed in all moments simultaneously, and how its keepers could move through time by adjusting certain mechanisms within the clock. But there were risks – spaces between moments where one could become lost forever.\n",
    "\n",
    "\"Your grandfather disappeared trying to prevent a terrible future he had glimpsed,\" the letter continued. \"Now I've seen it too, Emma. A darkness coming that must be stopped. I've gone to find him and to try once again to prevent what's coming. But someone must remain to keep the clock running. That duty now falls to you.\"\n",
    "\n",
    "The letter included detailed instructions about maintaining the temporal mechanisms and warnings about the dangers of temporal manipulation. At the bottom, her father had written, \"Remember, every moment is precious, but not every moment can be changed. Choose wisely, my daughter.\"\n",
    "\n",
    "Emma sank onto the old wooden stool, her mind reeling. The constant ticking suddenly felt different – more meaningful, more powerful. She noticed subtle symbols on the gears she'd never seen before, and the way certain cogs seemed to move in impossible ways.\n",
    "\n",
    "As she sat there, a strange ripple passed through the air. The massive pendulum, which had swung steadily for over two centuries, began to move erratically. Emma rushed to the control panel her father had always forbidden her to touch. Now, understanding its true purpose, she saw that the temporal gauges were fluctuating wildly.\n",
    "\n",
    "Something was wrong with time itself.\n",
    "\n",
    "Through the clock's face, she watched as the town below began to experience temporal distortions. Cars moved backward, trees grew and shrunk, and people flickered between young and old. The darkness her father had mentioned was beginning to seep through.\n",
    "\n",
    "Emma pulled out her father's old notebooks and began to study them frantically. There had to be a way to stabilize the timeline. As she worked, she noticed something her father had written in the margins of one page: \"The key lies not in changing the past, but in anchoring the present.\"\n",
    "\n",
    "With trembling hands, she began adjusting the mechanisms according to her father's notes. Each adjustment caused ripples of temporal energy to wash through the tower. Hours passed as she worked, though time had become meaningless in the chaos.\n",
    "\n",
    "Finally, she found the correct combination. The pendulum steadied, and the distortions below began to fade. The town returned to normal, its inhabitants unaware of how close they had come to temporal collapse.\n",
    "\n",
    "But her father and grandfather were still out there, lost in the In-Between. Emma looked at the controls that could take her to them, tempted to mount an immediate rescue. Then she remembered her father's words about choosing wisely.\n",
    "\n",
    "She was the keeper now. The tower needed her here, maintaining the boundaries of time. Perhaps that's what her father and grandfather had failed to understand – sometimes protecting time meant letting go of the past.\n",
    "\n",
    "Emma stood up and began her first official inspection of the clock's mechanisms. She would find a way to save them, but she would do it right. She would study, learn, and prepare. After all, in a place where all moments existed at once, there would always be time for a rescue.\n",
    "\n",
    "As she worked, she smiled, finally understanding why her family had always been so obsessed with time. They weren't just keeping the clock running – they were keeping reality itself intact. The ticking of the clock, once simply background noise, now felt like the heartbeat of the universe itself.\n",
    "\n",
    "And Emma, the newest Time Keeper, settled into her role as guardian of moments, protector of time, and keeper of one of the world's most important secrets. The clock tower had chosen its new guardian, and time itself seemed to tick in approval.\n",
    "</story>\n",
    "\n",
    "<task>\n",
    "Continue the story with 200 words\n",
    "</task>\n",
    "\"\"\".trimIndent())\n",
    "    )\n",
    "\n",
    "    val resp = runBlocking {\n",
    "        stream.asFlow()\n",
    "            .onEach {\n",
    "                ttft = if(ttft == null) System.currentTimeMillis() - start else ttft\n",
    "                print(it.result.output.content)\n",
    "            }.reduce { _, e -> e }\n",
    "    }\n",
    "    resp\n",
    "}\n",
    "\n",
    "val resp = timedResp.value\n",
    "val totalTime = timedResp.duration.inWholeMilliseconds\n",
    "println(resp.metadata.usage)\n",
    "println(\"time to first token: ${ttft} ms\")\n",
    "println(\"total time taken: ${totalTime} ms\")\n",
    "println(\"input token rate: ${(resp.metadata.usage.promptTokens * 1000.0 / ttft!!).toInt()}/s\")\n",
    "println(\"output token rate: ${(resp.metadata.usage.generationTokens * 1000.0 / (totalTime - ttft!!)).toInt()}/s\")"
   ],
   "outputs": [
    {
     "name": "stdout",
     "output_type": "stream",
     "text": [
      "Emma’s days were consumed by the relentless rhythm of the clock tower.  She diligently checked and adjusted the mechanisms, her father's notes a compass guiding her through the intricate web of time. Each adjustment felt like a delicate dance between stability and potential upheaval, a constant reminder of the precarious nature of temporal balance. \n",
      "\n",
      "Despite the endless hours, she never lost sight of her father's warning about \"choosing wisely.\" The burden of responsibility was immense, but as she grew more familiar with the tower's intricacies,  a sense of peace began to seep in. She understood that time itself wasn't simply a collection of moments; it was an intricate dance between past, present, and future.\n",
      "\n",
      "One day, while meticulously calibrating a particularly sensitive mechanism, Emma discovered a hidden compartment within the clock's base. Inside, she found a weathered journal filled with her grandfather's meticulous observations on temporal mechanics.  His handwriting was as precise as ever, detailing the intricacies of time manipulation and showcasing his extraordinary skill in navigating the delicate balance between moments. \n",
      "\n",
      "He hadn’t just observed; he had experimented. His journal revealed a trove of knowledge about manipulating time, including an advanced method that allowed for minor temporal shifts. The information was a powerful revelation.  Could this be the key to finding her grandfather and ensuring his safe return?  The weight of responsibility shifted onto Emma's shoulders, but she knew she couldn’t afford to back down from this challenge. \n",
      "{ promptTokens: 1182, generationTokens: 303, totalTokens: 1485 }\n",
      "time to first token: 637 ms\n",
      "total time taken: 3178 ms\n",
      "input token rate: 1855/s\n",
      "output token rate: 119/s\n"
     ]
    }
   ],
   "execution_count": 8
  },
  {
   "metadata": {
    "ExecuteTime": {
     "end_time": "2024-11-21T23:07:46.089497Z",
     "start_time": "2024-11-21T23:07:46.088115Z"
    }
   },
   "cell_type": "code",
   "source": "",
   "outputs": [],
   "execution_count": null
  }
 ],
 "metadata": {
  "kernelspec": {
   "display_name": "Kotlin",
   "language": "kotlin",
   "name": "kotlin"
  },
  "language_info": {
   "name": "kotlin",
   "version": "1.9.23",
   "mimetype": "text/x-kotlin",
   "file_extension": ".kt",
   "pygments_lexer": "kotlin",
   "codemirror_mode": "text/x-kotlin",
   "nbconvert_exporter": ""
  }
 },
 "nbformat": 4,
 "nbformat_minor": 0
}
